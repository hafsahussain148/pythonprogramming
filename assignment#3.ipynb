{
 "cells": [
  {
   "cell_type": "code",
   "execution_count": 47,
   "metadata": {},
   "outputs": [
    {
     "name": "stdout",
     "output_type": "stream",
     "text": [
      "enter eng marks79\n",
      "enter maths marks89\n",
      "enter science marks78\n",
      "enter urdu marks78\n",
      "enter computer marks89\n",
      "total marks are: 413.0\n",
      "percentage is: 41300.0\n",
      "Grade is A+\n"
     ]
    }
   ],
   "source": [
    "eng=float(input(\"enter eng marks\"))\n",
    "maths=float(input(\"enter maths marks\"))\n",
    "sci=float(input(\"enter science marks\"))\n",
    "urdu=float(input(\"enter urdu marks\"))\n",
    "comp=float(input(\"enter computer marks\"))\n",
    "summ=eng+maths+sci+urdu+comp\n",
    "print(\"total marks are:\" , summ)  \n",
    "x=summ%500*100\n",
    "print(\"percentage is:\",x)\n",
    "if x>=80:\n",
    " print(\"Grade is A+\")\n",
    "elif x>=70:\n",
    " print(\"Grade is A\")\n",
    "elif x>=60:\n",
    " print(\"Grade is B\")\n",
    "elif x>=50:\n",
    " print(\"Grade is C\")\n",
    "elif x>=40:\n",
    " print(\"Grade is D\")\n",
    "else:\n",
    "    print(\"Fail\")\n"
   ]
  },
  {
   "cell_type": "code",
   "execution_count": 40,
   "metadata": {},
   "outputs": [
    {
     "name": "stdout",
     "output_type": "stream",
     "text": [
      "['1', '5', '13', '34', '89']\n"
     ]
    }
   ],
   "source": [
    "a = ['dm', '1', 'fm', 'im', '5', 'd', '13', 's', '34', 'h', '89']\n",
    " \n",
    "new=[]\n",
    "for i in a:\n",
    " if i.isdigit():\n",
    "  new.append(i)\n",
    "print(new)"
   ]
  },
  {
   "cell_type": "code",
   "execution_count": 46,
   "metadata": {},
   "outputs": [
    {
     "name": "stdout",
     "output_type": "stream",
     "text": [
      "{56: 1, 7: 8, 4: 3, 1: 4}\n",
      "{56: 1, 7: 8, 4: 3, 1: 4, 3: 5}\n"
     ]
    }
   ],
   "source": [
    "a={56:1,7:6,4:3,1:4,7:8}\n",
    "print(a)\n",
    "a.update({3:5})\n",
    "print(a)"
   ]
  },
  {
   "cell_type": "code",
   "execution_count": 51,
   "metadata": {},
   "outputs": [
    {
     "name": "stdout",
     "output_type": "stream",
     "text": [
      "22\n"
     ]
    }
   ],
   "source": [
    "dic={'ho':1,7:6,'kil':3,'kin':4,'joe':8}\n",
    "print(sum(dic.values()))"
   ]
  },
  {
   "cell_type": "code",
   "execution_count": 60,
   "metadata": {},
   "outputs": [
    {
     "name": "stdout",
     "output_type": "stream",
     "text": [
      "{78, 34, 67, 54}\n"
     ]
    }
   ],
   "source": [
    "a = [54,67,54,78,34,67]\n",
    "\n",
    "dupl = set()\n",
    "sngl = []\n",
    "for i in a:\n",
    " if i not in dupl:\n",
    "        sngl.append(i)\n",
    "        dupl.add(i)\n",
    "\n",
    "print(dupl)"
   ]
  },
  {
   "cell_type": "code",
   "execution_count": 64,
   "metadata": {},
   "outputs": [
    {
     "name": "stdout",
     "output_type": "stream",
     "text": [
      "hi\n",
      "key not found\n"
     ]
    }
   ],
   "source": [
    "dic={'ho':1,7:6,'kil':3,'kin':4,'joe':8}\n",
    "key=input()\n",
    "for i in dic:\n",
    "    if i==key:\n",
    "        print(\"key exists in the dictionary\")\n",
    "else:\n",
    "            print(\"key not found\")"
   ]
  },
  {
   "cell_type": "code",
   "execution_count": null,
   "metadata": {},
   "outputs": [],
   "source": []
  }
 ],
 "metadata": {
  "kernelspec": {
   "display_name": "Python 3",
   "language": "python",
   "name": "python3"
  },
  "language_info": {
   "codemirror_mode": {
    "name": "ipython",
    "version": 3
   },
   "file_extension": ".py",
   "mimetype": "text/x-python",
   "name": "python",
   "nbconvert_exporter": "python",
   "pygments_lexer": "ipython3",
   "version": "3.7.4"
  }
 },
 "nbformat": 4,
 "nbformat_minor": 2
}
